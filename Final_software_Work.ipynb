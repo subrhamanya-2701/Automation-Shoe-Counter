{
  "nbformat": 4,
  "nbformat_minor": 0,
  "metadata": {
    "colab": {
      "name": "Final_software_Work.ipynb",
      "provenance": [],
      "collapsed_sections": [],
      "authorship_tag": "ABX9TyMqffyN08fWSl3Tz5LCh2e5",
      "include_colab_link": true
    },
    "kernelspec": {
      "name": "python3",
      "display_name": "Python 3"
    },
    "language_info": {
      "name": "python"
    },
    "accelerator": "GPU"
  },
  "cells": [
    {
      "cell_type": "markdown",
      "metadata": {
        "id": "view-in-github",
        "colab_type": "text"
      },
      "source": [
        "<a href=\"https://colab.research.google.com/github/subrhamanya-2701/Automation-Shoe-Counter/blob/main/Final_software_Work.ipynb\" target=\"_parent\"><img src=\"https://colab.research.google.com/assets/colab-badge.svg\" alt=\"Open In Colab\"/></a>"
      ]
    },
    {
      "cell_type": "code",
      "execution_count": 2,
      "metadata": {
        "colab": {
          "base_uri": "https://localhost:8080/"
        },
        "id": "Yn79V1_VXM7R",
        "outputId": "e89ad27c-2a50-4ad8-8950-5dfb1e4da870"
      },
      "outputs": [
        {
          "output_type": "stream",
          "name": "stdout",
          "text": [
            "Mounted at /content/drive\n"
          ]
        }
      ],
      "source": [
        "from google.colab import drive\n",
        "drive.mount('/content/drive')"
      ]
    },
    {
      "cell_type": "code",
      "source": [
        "!pip install face_recognition"
      ],
      "metadata": {
        "colab": {
          "base_uri": "https://localhost:8080/"
        },
        "id": "C91dRXcHXVZQ",
        "outputId": "f62fab28-8584-4469-8268-27851f696e20"
      },
      "execution_count": 3,
      "outputs": [
        {
          "output_type": "stream",
          "name": "stdout",
          "text": [
            "Collecting face_recognition\n",
            "  Downloading face_recognition-1.3.0-py2.py3-none-any.whl (15 kB)\n",
            "Requirement already satisfied: Pillow in /usr/local/lib/python3.7/dist-packages (from face_recognition) (7.1.2)\n",
            "Requirement already satisfied: dlib>=19.7 in /usr/local/lib/python3.7/dist-packages (from face_recognition) (19.18.0)\n",
            "Requirement already satisfied: Click>=6.0 in /usr/local/lib/python3.7/dist-packages (from face_recognition) (7.1.2)\n",
            "Collecting face-recognition-models>=0.3.0\n",
            "  Downloading face_recognition_models-0.3.0.tar.gz (100.1 MB)\n",
            "\u001b[K     |████████████████████████████████| 100.1 MB 25 kB/s \n",
            "\u001b[?25hRequirement already satisfied: numpy in /usr/local/lib/python3.7/dist-packages (from face_recognition) (1.19.5)\n",
            "Building wheels for collected packages: face-recognition-models\n",
            "  Building wheel for face-recognition-models (setup.py) ... \u001b[?25l\u001b[?25hdone\n",
            "  Created wheel for face-recognition-models: filename=face_recognition_models-0.3.0-py2.py3-none-any.whl size=100566186 sha256=7160e43451058d074af20b980e69ffe96bedda9f40a86bbda61d2839ddf764ad\n",
            "  Stored in directory: /root/.cache/pip/wheels/d6/81/3c/884bcd5e1c120ff548d57c2ecc9ebf3281c9a6f7c0e7e7947a\n",
            "Successfully built face-recognition-models\n",
            "Installing collected packages: face-recognition-models, face-recognition\n",
            "Successfully installed face-recognition-1.3.0 face-recognition-models-0.3.0\n"
          ]
        }
      ]
    },
    {
      "cell_type": "code",
      "source": [
        "import imutils\n",
        "import numpy as np\n",
        "import cv2\n",
        "from google.colab.patches import cv2_imshow\n",
        "from IPython.display import display, Javascript\n",
        "from google.colab.output import eval_js\n",
        "from base64 import b64decode\n",
        "import os\n",
        "import time\n",
        "import face_recognition"
      ],
      "metadata": {
        "id": "XVxsBLu-XVrQ"
      },
      "execution_count": 4,
      "outputs": []
    },
    {
      "cell_type": "code",
      "source": [
        "def take_photo(filename='photo.jpg', quality=0.8):\n",
        "  js = Javascript('''\n",
        "    async function takePhoto(quality) {\n",
        "      const div = document.createElement('div');\n",
        "      const capture = document.createElement('button');\n",
        "      capture.textContent = 'Capture';\n",
        "      div.appendChild(capture);\n",
        "\n",
        "      const video = document.createElement('video');\n",
        "      video.style.display = 'block';\n",
        "      const stream = await navigator.mediaDevices.getUserMedia({video: true});\n",
        "\n",
        "      document.body.appendChild(div);\n",
        "      div.appendChild(video);\n",
        "      video.srcObject = stream;\n",
        "      await video.play();\n",
        "\n",
        "      // Resize the output to fit the video element.\n",
        "      google.colab.output.setIframeHeight(document.documentElement.scrollHeight, true);\n",
        "\n",
        "      // Wait for Capture to be clicked.\n",
        "      await new Promise((resolve) => capture.onclick = resolve);\n",
        "\n",
        "      const canvas = document.createElement('canvas');\n",
        "      canvas.width = video.videoWidth;\n",
        "      canvas.height = video.videoHeight;\n",
        "      canvas.getContext('2d').drawImage(video, 0, 0);\n",
        "      stream.getVideoTracks()[0].stop();\n",
        "      div.remove();\n",
        "      return canvas.toDataURL('image/jpeg', quality);\n",
        "    }\n",
        "    ''')\n",
        "  display(js)\n",
        "  data = eval_js('takePhoto({})'.format(quality))\n",
        "  binary = b64decode(data.split(',')[1])\n",
        "  with open(filename, 'wb') as f:\n",
        "    f.write(binary)\n",
        "  return filename"
      ],
      "metadata": {
        "id": "nDnOTkaRXV9D"
      },
      "execution_count": 5,
      "outputs": []
    },
    {
      "cell_type": "code",
      "source": [
        "# Trail find number\n",
        "def find_number1(list_1):\n",
        "  #print(list_1)\n",
        "  for i in list(range(1, 7)):\n",
        "    if str(i) not in list_1:\n",
        "      return i"
      ],
      "metadata": {
        "id": "oEesHJFLXWLZ"
      },
      "execution_count": 19,
      "outputs": []
    },
    {
      "cell_type": "code",
      "source": [
        "def read_img(path):\n",
        "  image = cv2.imread(path)\n",
        "  (h, w) = image.shape[:2]\n",
        "  width = 500\n",
        "  ratio = width / float(w)\n",
        "  height = int(h * ratio)\n",
        "  return cv2.resize(image, (width, height))"
      ],
      "metadata": {
        "id": "4E2Gemz4Xea7"
      },
      "execution_count": 20,
      "outputs": []
    },
    {
      "cell_type": "markdown",
      "source": [
        "Make folder : '/content/drive/MyDrive/Experimet_project/'\n",
        "\n",
        "In that folder make another folder which has address **\"/content/drive/MyDrive/MiniProject/ Colab Notebooks\"** (Name is \"Colab Notebooks\") \"Yours May be different --- **Google Colab** Used store some file in this file , we should make this folder before it create automatically."
      ],
      "metadata": {
        "id": "Y_3v0iaWX0Ge"
      }
    },
    {
      "cell_type": "code",
      "source": [
        "Known = '/content/drive/MyDrive/Experimet_project/Known/'\n",
        "while(True):\n",
        "  #Known2 = '/content/drive/MyDrive/TRAIL/Known'\n",
        "  print(\"************** -- Welcome to Shoe Counter -- **********\")\n",
        "  Option = input(\"----- Please Choose Your Option -----\\n pick or keep : \")\n",
        "  if Option == 'keep': \n",
        "    listf = []\n",
        "    # Accesiing all file name in folders\n",
        "    list_of_file = os.listdir(Known)\n",
        "    #print(list_of_file)\n",
        "\n",
        "    file_number = 0\n",
        "    for b, dirs, f in os.walk(Known):\n",
        "      for file1 in f:\n",
        "        file_number+=1\n",
        "\n",
        "    if file_number > 5:\n",
        "      print(\"Ooooopss The Box is full Please try Another Table\")\n",
        "    else:\n",
        "      if file_number > 0:\n",
        "        for file_1 in list_of_file(Known):\n",
        "          file_1 = file_1.split('.')\n",
        "          file_2 = file_1[0]\n",
        "          file_2 = file_2.split('_')\n",
        "          listf.append(file_2[0])\n",
        "      elif file_number == 0:\n",
        "            listf.append(0)\n",
        "      print(listf)\n",
        "\n",
        "      print(\"Please Come infront of our Camara\")\n",
        "      image_file = take_photo()\n",
        "      # img = cv2.imread('loadimage.jpeg')\n",
        "      print(\"---------------Thank You---------------\")\n",
        "    \n",
        "      image = cv2.imread(image_file)\n",
        "      (h, w) = image.shape[:2]\n",
        "      width = 500\n",
        "      ratio = width / float(w)\n",
        "      height = int(h * ratio)\n",
        "      image = cv2.resize(image, (width, height))\n",
        "\n",
        "      box = find_number1(list(listf))\n",
        "\n",
        "      name = input(\"Enter your name : \")\n",
        "\n",
        "      cv2.imwrite(Known + str(box) + \"_\" + name + '.jpeg', image)\n",
        "      print(\"Please Keep Box number on Box Number : \" + str(box))\n",
        "      ## Stepper Motor Will Trun\n",
        "      ##############\n",
        "      ##############\n",
        "      time.sleep(4)\n",
        "      print(\"Thank You have Good day\")\n",
        "  elif Option == \"pick\":\n",
        "    file_number = 0\n",
        "    for b, dirs, f in os.walk(Known):\n",
        "      for file1 in f:\n",
        "        file_number+=1\n",
        "    \n",
        "    if file_number > 0:\n",
        "      print(\"Please Come In front of Camara\")\n",
        "      image_file = take_photo()\n",
        "      image = cv2.imread(image_file)\n",
        "      (h, w) = image.shape[:2]\n",
        "      width = 500\n",
        "      ratio = width / float(w)\n",
        "      height = int(h * ratio)\n",
        "      img = cv2.resize(image, (width, height))\n",
        "\n",
        "      #cv2.imwrite(temp + \"unknown\" + '.jpeg', image)\n",
        "      #print(\"unknown--------\" ,img)\n",
        "\n",
        "      known_encoding = []\n",
        "      known_names = []\n",
        "      known_dir = Known\n",
        "\n",
        "\n",
        "\n",
        "      #img = cv2.imread(temp + \"unknown.jpeg\")\n",
        "      #img_enc_1 = face_recognition.face_encodings(img)\n",
        "\n",
        "      # li = os.listdir(known_dir)\n",
        "      # li.remove('.ipynb_checkpoints')\n",
        "      # print(li)\n",
        "\n",
        "      for file in os.listdir(known_dir)[1:]:\n",
        "        #print(Known + file)\n",
        "        img_1 = read_img(known_dir + file)\n",
        "        print(img_1)\n",
        "        img_enc = face_recognition.face_encodings(img_1)[0]\n",
        "        print(f'{file} : ', img_enc)\n",
        "        known_encoding.append(img_enc)\n",
        "        #results = face_recognition.compare_faces(unknown_encoding, known_encoding)\n",
        "        known_names.append(file.split('.')[0])\n",
        "\n",
        "      print(img)\n",
        "\n",
        "      img_enc_1 = face_recognition.face_encodings(img[0])\n",
        "\n",
        "      print(\"Encoded image : \", img_enc_1)\n",
        "\n",
        "      result = face_recognition.compare_faces(known_encoding, img_enc_1)\n",
        "      distance = list(face_recognition.face_distance(known_encoding, img_enc_1))\n",
        "      print(distance)\n",
        "      file_name = known_names[distance.index(min(distance))]\n",
        "      #(known_names[distance.index(min(distance))).split('_')[1]]\n",
        "      if min(distance) < 3.33:\n",
        "        print(\"----------***************************************************----------\")\n",
        "        print(f\"Hii {file_name.split('_')[1]} Your Shoe is Comming, Please wait till Box number : {file_name.split('_')[0]}\")\n",
        "        print(\"----------***************************************************----------\")\n",
        "      else:\n",
        "        print(\"Cannot recognising Face Please Try Agian\")\n",
        "    else:\n",
        "      print(\"There is Noo file to Pick\")\n",
        "  else:\n",
        "    print(\"***Please Choose valid Choice***\\n ***Thank You***\")"
      ],
      "metadata": {
        "colab": {
          "base_uri": "https://localhost:8080/",
          "height": 1000
        },
        "id": "2oGyKIFEXWVv",
        "outputId": "2699dcd7-5e13-40fe-a624-5b48c549abd1"
      },
      "execution_count": 35,
      "outputs": [
        {
          "output_type": "stream",
          "name": "stdout",
          "text": [
            "************** -- Welcome to Shoe Counter -- **********\n",
            "----- Please Choose Your Option -----\n",
            " pick or keep : pick\n",
            "Please Come In front of Camara\n"
          ]
        },
        {
          "output_type": "display_data",
          "data": {
            "application/javascript": [
              "\n",
              "    async function takePhoto(quality) {\n",
              "      const div = document.createElement('div');\n",
              "      const capture = document.createElement('button');\n",
              "      capture.textContent = 'Capture';\n",
              "      div.appendChild(capture);\n",
              "\n",
              "      const video = document.createElement('video');\n",
              "      video.style.display = 'block';\n",
              "      const stream = await navigator.mediaDevices.getUserMedia({video: true});\n",
              "\n",
              "      document.body.appendChild(div);\n",
              "      div.appendChild(video);\n",
              "      video.srcObject = stream;\n",
              "      await video.play();\n",
              "\n",
              "      // Resize the output to fit the video element.\n",
              "      google.colab.output.setIframeHeight(document.documentElement.scrollHeight, true);\n",
              "\n",
              "      // Wait for Capture to be clicked.\n",
              "      await new Promise((resolve) => capture.onclick = resolve);\n",
              "\n",
              "      const canvas = document.createElement('canvas');\n",
              "      canvas.width = video.videoWidth;\n",
              "      canvas.height = video.videoHeight;\n",
              "      canvas.getContext('2d').drawImage(video, 0, 0);\n",
              "      stream.getVideoTracks()[0].stop();\n",
              "      div.remove();\n",
              "      return canvas.toDataURL('image/jpeg', quality);\n",
              "    }\n",
              "    "
            ],
            "text/plain": [
              "<IPython.core.display.Javascript object>"
            ]
          },
          "metadata": {}
        },
        {
          "output_type": "stream",
          "name": "stdout",
          "text": [
            "[[[139 142 140]\n",
            "  [140 143 141]\n",
            "  [138 143 142]\n",
            "  ...\n",
            "  [114 120 119]\n",
            "  [116 122 121]\n",
            "  [117 123 122]]\n",
            "\n",
            " [[142 145 143]\n",
            "  [136 141 139]\n",
            "  [136 141 140]\n",
            "  ...\n",
            "  [114 120 119]\n",
            "  [116 122 121]\n",
            "  [117 123 122]]\n",
            "\n",
            " [[137 142 140]\n",
            "  [135 142 139]\n",
            "  [138 144 143]\n",
            "  ...\n",
            "  [114 119 120]\n",
            "  [116 121 122]\n",
            "  [117 122 123]]\n",
            "\n",
            " ...\n",
            "\n",
            " [[ 26  22  33]\n",
            "  [ 27  23  34]\n",
            "  [ 26  22  33]\n",
            "  ...\n",
            "  [ 30  28  27]\n",
            "  [ 33  31  30]\n",
            "  [ 31  29  28]]\n",
            "\n",
            " [[ 27  23  34]\n",
            "  [ 27  23  34]\n",
            "  [ 26  22  33]\n",
            "  ...\n",
            "  [ 31  29  28]\n",
            "  [ 36  34  33]\n",
            "  [ 35  33  32]]\n",
            "\n",
            " [[ 26  22  33]\n",
            "  [ 26  22  33]\n",
            "  [ 25  22  31]\n",
            "  ...\n",
            "  [ 30  29  25]\n",
            "  [ 35  34  30]\n",
            "  [ 34  33  29]]]\n",
            "2_subrhamanya.jpeg :  [-0.24456827  0.1294789   0.07309672 -0.04524456 -0.08225588 -0.03698364\n",
            " -0.02491405 -0.09943628  0.09174585 -0.06514995  0.23418972 -0.03725216\n",
            " -0.16492276 -0.15983111  0.04481793  0.06561334 -0.15558329 -0.17340773\n",
            " -0.04324625 -0.12023474  0.03932881  0.03081733 -0.03593307  0.04901974\n",
            " -0.21249744 -0.30785218 -0.04867273 -0.13569155  0.01752314 -0.14170173\n",
            "  0.01509363  0.0303898  -0.1859974  -0.02059738 -0.01396531  0.17363656\n",
            "  0.03289816  0.08159301  0.10234283 -0.02751131 -0.13838674 -0.06128749\n",
            "  0.09154001  0.30635279  0.24671701  0.03730904 -0.05043131  0.04315095\n",
            "  0.11173731 -0.18877637  0.06112105  0.07143011  0.14949399  0.06276699\n",
            "  0.06645711 -0.1592637  -0.04520224  0.07192539 -0.15023075  0.09859286\n",
            "  0.01209665 -0.1678414  -0.11072274 -0.01841669  0.29046243  0.07955594\n",
            " -0.14588097 -0.13627177  0.1489428  -0.1767509  -0.08498211  0.12037162\n",
            " -0.09077671 -0.08386007 -0.32127059  0.07037566  0.37174311  0.05102108\n",
            " -0.2304385   0.00933183 -0.04824004  0.00441103  0.02972305  0.0887308\n",
            " -0.09309608  0.06198396 -0.12263945  0.00267041  0.1794875   0.05162938\n",
            " -0.04121425  0.20932034 -0.02415985  0.08172537  0.08007369  0.00294168\n",
            " -0.05257306 -0.08174732 -0.0796155  -0.06761407  0.04805253 -0.14665109\n",
            " -0.03416461  0.1015864  -0.16128221  0.16549382  0.02233488  0.08412974\n",
            " -0.03562703  0.04172176 -0.07341531 -0.04876037  0.16532348 -0.29855365\n",
            "  0.17584777  0.18303953  0.01816617  0.14256775  0.0699961   0.03909592\n",
            " -0.0143976   0.04457688 -0.10037328 -0.0286101   0.02106498 -0.12527928\n",
            "  0.06812003  0.06066665]\n",
            "[[[122 143 144]\n",
            "  [124 145 146]\n",
            "  [126 146 147]\n",
            "  ...\n",
            "  [246 244 244]\n",
            "  [246 244 244]\n",
            "  [246 244 244]]\n",
            "\n",
            " [[125 146 147]\n",
            "  [126 147 148]\n",
            "  [128 148 149]\n",
            "  ...\n",
            "  [244 244 244]\n",
            "  [246 244 244]\n",
            "  [244 244 244]]\n",
            "\n",
            " [[125 149 147]\n",
            "  [127 149 147]\n",
            "  [129 150 148]\n",
            "  ...\n",
            "  [242 244 244]\n",
            "  [244 244 244]\n",
            "  [242 244 244]]\n",
            "\n",
            " ...\n",
            "\n",
            " [[ 46  45  84]\n",
            "  [ 46  45  84]\n",
            "  [ 46  47  85]\n",
            "  ...\n",
            "  [ 28  32  43]\n",
            "  [ 29  31  42]\n",
            "  [ 25  29  40]]\n",
            "\n",
            " [[ 43  42  81]\n",
            "  [ 45  47  82]\n",
            "  [ 43  47  82]\n",
            "  ...\n",
            "  [ 28  30  41]\n",
            "  [ 28  30  41]\n",
            "  [ 27  29  40]]\n",
            "\n",
            " [[ 41  43  78]\n",
            "  [ 45  47  82]\n",
            "  [ 42  46  81]\n",
            "  ...\n",
            "  [ 28  28  40]\n",
            "  [ 29  29  41]\n",
            "  [ 29  29  41]]]\n",
            "3_shreyasprateeksha.jpeg :  [-2.59999603e-01  9.22053158e-02  1.11267231e-01 -6.61061406e-02\n",
            " -5.55029809e-02 -3.01959515e-02 -1.91360041e-02 -4.73032258e-02\n",
            "  1.03251934e-01 -5.18211126e-02  2.10954905e-01 -4.47569266e-02\n",
            " -1.93400651e-01 -1.40747070e-01  1.57740638e-02  1.16598278e-01\n",
            " -1.62981391e-01 -1.90952063e-01 -6.67328238e-02 -1.07782841e-01\n",
            "  5.13169169e-03  2.48977542e-02 -4.90606986e-02  5.81308156e-02\n",
            " -1.99282348e-01 -3.37943077e-01 -7.28465915e-02 -1.31924123e-01\n",
            "  1.44467093e-02 -5.91431558e-02  4.48092744e-02 -5.17747998e-02\n",
            " -2.14289099e-01 -1.69440843e-02 -3.29949334e-02  9.76106077e-02\n",
            "  3.90403606e-02 -1.44379474e-02  1.68441579e-01 -4.90601510e-02\n",
            " -1.07358977e-01 -5.53908795e-02  8.12868327e-02  2.37599537e-01\n",
            "  1.13034196e-01  4.53264266e-02  4.47758697e-02 -1.11333784e-02\n",
            "  8.51603225e-02 -2.24131331e-01  6.74822852e-02  1.32098988e-01\n",
            "  9.73967612e-02  6.91019669e-02  6.28687739e-02 -1.06512889e-01\n",
            "  9.97181982e-03  8.37797970e-02 -1.49784356e-01  9.80205908e-02\n",
            "  1.59440041e-02 -4.54750955e-02 -1.17871776e-01 -4.02951799e-02\n",
            "  2.81662881e-01  9.21408385e-02 -1.17077336e-01 -1.53851926e-01\n",
            "  1.90219700e-01 -1.43866450e-01 -9.53009427e-02  6.23561963e-02\n",
            " -5.92204705e-02 -1.07858852e-01 -3.17931294e-01  8.47996473e-02\n",
            "  3.69314492e-01  1.29543185e-01 -2.47235820e-01  6.96417540e-02\n",
            " -1.31905198e-01  1.41299851e-02  4.95226756e-02  2.80954540e-02\n",
            " -1.07523218e-01  7.28994608e-02 -1.33764535e-01  3.06786355e-02\n",
            "  2.08529383e-01  6.12892769e-02 -1.69402622e-02  1.85525566e-01\n",
            "  7.08582997e-02  6.06106296e-02  6.94167241e-02  1.00319088e-02\n",
            " -4.01745737e-02 -7.41978586e-02 -7.24197924e-02 -3.41829658e-03\n",
            "  1.48662820e-01 -5.48467413e-03 -1.73192471e-04  7.87045658e-02\n",
            " -1.50705770e-01  1.91000804e-01  2.81835757e-02 -1.06271356e-03\n",
            " -3.13256308e-02  9.20014977e-02 -1.01335973e-01 -3.95360440e-02\n",
            "  1.50372803e-01 -2.41438136e-01  1.75791949e-01  1.40495002e-01\n",
            " -1.34807825e-02  1.50745064e-01  1.08587965e-01  7.43224621e-02\n",
            " -4.67264280e-02  1.22692063e-02 -1.13092788e-01 -1.00771934e-01\n",
            "  5.31369746e-02 -7.61150643e-02  1.10555463e-01  1.03159018e-01]\n",
            "[[[91 99 98]\n",
            "  [90 98 97]\n",
            "  [89 97 96]\n",
            "  ...\n",
            "  [86 84 84]\n",
            "  [86 83 86]\n",
            "  [90 86 90]]\n",
            "\n",
            " [[91 99 98]\n",
            "  [91 98 97]\n",
            "  [90 98 97]\n",
            "  ...\n",
            "  [85 83 82]\n",
            "  [86 83 84]\n",
            "  [89 85 89]]\n",
            "\n",
            " [[91 99 98]\n",
            "  [91 99 98]\n",
            "  [90 98 97]\n",
            "  ...\n",
            "  [83 82 79]\n",
            "  [85 83 83]\n",
            "  [88 86 86]]\n",
            "\n",
            " ...\n",
            "\n",
            " [[79 71 81]\n",
            "  [68 62 70]\n",
            "  [62 56 64]\n",
            "  ...\n",
            "  [98 91 79]\n",
            "  [98 91 80]\n",
            "  [97 91 80]]\n",
            "\n",
            " [[66 57 69]\n",
            "  [56 46 58]\n",
            "  [47 39 50]\n",
            "  ...\n",
            "  [95 90 80]\n",
            "  [97 90 83]\n",
            "  [96 90 82]]\n",
            "\n",
            " [[66 56 68]\n",
            "  [57 47 59]\n",
            "  [51 41 53]\n",
            "  ...\n",
            "  [66 60 52]\n",
            "  [67 60 54]\n",
            "  [66 60 55]]]\n",
            "Encoded image :  []\n"
          ]
        },
        {
          "output_type": "error",
          "ename": "TypeError",
          "evalue": "ignored",
          "traceback": [
            "\u001b[0;31m---------------------------------------------------------------------------\u001b[0m",
            "\u001b[0;31mTypeError\u001b[0m                                 Traceback (most recent call last)",
            "\u001b[0;32m<ipython-input-35-68d0a1759bc6>\u001b[0m in \u001b[0;36m<module>\u001b[0;34m()\u001b[0m\n\u001b[1;32m     99\u001b[0m       \u001b[0mprint\u001b[0m\u001b[0;34m(\u001b[0m\u001b[0;34m\"Encoded image : \"\u001b[0m\u001b[0;34m,\u001b[0m \u001b[0mimg_enc_1\u001b[0m\u001b[0;34m)\u001b[0m\u001b[0;34m\u001b[0m\u001b[0;34m\u001b[0m\u001b[0m\n\u001b[1;32m    100\u001b[0m \u001b[0;34m\u001b[0m\u001b[0m\n\u001b[0;32m--> 101\u001b[0;31m       \u001b[0mresult\u001b[0m \u001b[0;34m=\u001b[0m \u001b[0mface_recognition\u001b[0m\u001b[0;34m.\u001b[0m\u001b[0mcompare_faces\u001b[0m\u001b[0;34m(\u001b[0m\u001b[0mknown_encoding\u001b[0m\u001b[0;34m,\u001b[0m \u001b[0mimg_enc_1\u001b[0m\u001b[0;34m)\u001b[0m\u001b[0;34m\u001b[0m\u001b[0;34m\u001b[0m\u001b[0m\n\u001b[0m\u001b[1;32m    102\u001b[0m       \u001b[0mdistance\u001b[0m \u001b[0;34m=\u001b[0m \u001b[0mlist\u001b[0m\u001b[0;34m(\u001b[0m\u001b[0mface_recognition\u001b[0m\u001b[0;34m.\u001b[0m\u001b[0mface_distance\u001b[0m\u001b[0;34m(\u001b[0m\u001b[0mknown_encoding\u001b[0m\u001b[0;34m,\u001b[0m \u001b[0mimg_enc_1\u001b[0m\u001b[0;34m)\u001b[0m\u001b[0;34m)\u001b[0m\u001b[0;34m\u001b[0m\u001b[0;34m\u001b[0m\u001b[0m\n\u001b[1;32m    103\u001b[0m       \u001b[0mprint\u001b[0m\u001b[0;34m(\u001b[0m\u001b[0mdistance\u001b[0m\u001b[0;34m)\u001b[0m\u001b[0;34m\u001b[0m\u001b[0;34m\u001b[0m\u001b[0m\n",
            "\u001b[0;32m/usr/local/lib/python3.7/dist-packages/face_recognition/api.py\u001b[0m in \u001b[0;36mcompare_faces\u001b[0;34m(known_face_encodings, face_encoding_to_check, tolerance)\u001b[0m\n\u001b[1;32m    224\u001b[0m     \u001b[0;34m:\u001b[0m\u001b[0;32mreturn\u001b[0m\u001b[0;34m:\u001b[0m \u001b[0mA\u001b[0m \u001b[0mlist\u001b[0m \u001b[0mof\u001b[0m \u001b[0;32mTrue\u001b[0m\u001b[0;34m/\u001b[0m\u001b[0;32mFalse\u001b[0m \u001b[0mvalues\u001b[0m \u001b[0mindicating\u001b[0m \u001b[0mwhich\u001b[0m \u001b[0mknown_face_encodings\u001b[0m \u001b[0mmatch\u001b[0m \u001b[0mthe\u001b[0m \u001b[0mface\u001b[0m \u001b[0mencoding\u001b[0m \u001b[0mto\u001b[0m \u001b[0mcheck\u001b[0m\u001b[0;34m\u001b[0m\u001b[0;34m\u001b[0m\u001b[0m\n\u001b[1;32m    225\u001b[0m     \"\"\"\n\u001b[0;32m--> 226\u001b[0;31m     \u001b[0;32mreturn\u001b[0m \u001b[0mlist\u001b[0m\u001b[0;34m(\u001b[0m\u001b[0mface_distance\u001b[0m\u001b[0;34m(\u001b[0m\u001b[0mknown_face_encodings\u001b[0m\u001b[0;34m,\u001b[0m \u001b[0mface_encoding_to_check\u001b[0m\u001b[0;34m)\u001b[0m \u001b[0;34m<=\u001b[0m \u001b[0mtolerance\u001b[0m\u001b[0;34m)\u001b[0m\u001b[0;34m\u001b[0m\u001b[0;34m\u001b[0m\u001b[0m\n\u001b[0m",
            "\u001b[0;32m/usr/local/lib/python3.7/dist-packages/face_recognition/api.py\u001b[0m in \u001b[0;36mface_distance\u001b[0;34m(face_encodings, face_to_compare)\u001b[0m\n\u001b[1;32m     73\u001b[0m         \u001b[0;32mreturn\u001b[0m \u001b[0mnp\u001b[0m\u001b[0;34m.\u001b[0m\u001b[0mempty\u001b[0m\u001b[0;34m(\u001b[0m\u001b[0;34m(\u001b[0m\u001b[0;36m0\u001b[0m\u001b[0;34m)\u001b[0m\u001b[0;34m)\u001b[0m\u001b[0;34m\u001b[0m\u001b[0;34m\u001b[0m\u001b[0m\n\u001b[1;32m     74\u001b[0m \u001b[0;34m\u001b[0m\u001b[0m\n\u001b[0;32m---> 75\u001b[0;31m     \u001b[0;32mreturn\u001b[0m \u001b[0mnp\u001b[0m\u001b[0;34m.\u001b[0m\u001b[0mlinalg\u001b[0m\u001b[0;34m.\u001b[0m\u001b[0mnorm\u001b[0m\u001b[0;34m(\u001b[0m\u001b[0mface_encodings\u001b[0m \u001b[0;34m-\u001b[0m \u001b[0mface_to_compare\u001b[0m\u001b[0;34m,\u001b[0m \u001b[0maxis\u001b[0m\u001b[0;34m=\u001b[0m\u001b[0;36m1\u001b[0m\u001b[0;34m)\u001b[0m\u001b[0;34m\u001b[0m\u001b[0;34m\u001b[0m\u001b[0m\n\u001b[0m\u001b[1;32m     76\u001b[0m \u001b[0;34m\u001b[0m\u001b[0m\n\u001b[1;32m     77\u001b[0m \u001b[0;34m\u001b[0m\u001b[0m\n",
            "\u001b[0;31mTypeError\u001b[0m: unsupported operand type(s) for -: 'list' and 'list'"
          ]
        }
      ]
    },
    {
      "cell_type": "code",
      "source": [
        "known_encoding"
      ],
      "metadata": {
        "colab": {
          "base_uri": "https://localhost:8080/"
        },
        "id": "Q8swXdNnejCR",
        "outputId": "e269104a-92da-4f5a-e5f3-d1e27ebee4b8"
      },
      "execution_count": 71,
      "outputs": [
        {
          "output_type": "execute_result",
          "data": {
            "text/plain": [
              "[[array([-0.24456827,  0.1294789 ,  0.07309672, -0.04524456, -0.08225588,\n",
              "         -0.03698364, -0.02491405, -0.09943628,  0.09174585, -0.06514995,\n",
              "          0.23418972, -0.03725216, -0.16492276, -0.15983111,  0.04481793,\n",
              "          0.06561334, -0.15558329, -0.17340773, -0.04324625, -0.12023474,\n",
              "          0.03932881,  0.03081733, -0.03593307,  0.04901974, -0.21249744,\n",
              "         -0.30785218, -0.04867273, -0.13569155,  0.01752314, -0.14170173,\n",
              "          0.01509363,  0.0303898 , -0.1859974 , -0.02059738, -0.01396531,\n",
              "          0.17363656,  0.03289816,  0.08159301,  0.10234283, -0.02751131,\n",
              "         -0.13838674, -0.06128749,  0.09154001,  0.30635279,  0.24671701,\n",
              "          0.03730904, -0.05043131,  0.04315095,  0.11173731, -0.18877637,\n",
              "          0.06112105,  0.07143011,  0.14949399,  0.06276699,  0.06645711,\n",
              "         -0.1592637 , -0.04520224,  0.07192539, -0.15023075,  0.09859286,\n",
              "          0.01209665, -0.1678414 , -0.11072274, -0.01841669,  0.29046243,\n",
              "          0.07955594, -0.14588097, -0.13627177,  0.1489428 , -0.1767509 ,\n",
              "         -0.08498211,  0.12037162, -0.09077671, -0.08386007, -0.32127059,\n",
              "          0.07037566,  0.37174311,  0.05102108, -0.2304385 ,  0.00933183,\n",
              "         -0.04824004,  0.00441103,  0.02972305,  0.0887308 , -0.09309608,\n",
              "          0.06198396, -0.12263945,  0.00267041,  0.1794875 ,  0.05162938,\n",
              "         -0.04121425,  0.20932034, -0.02415985,  0.08172537,  0.08007369,\n",
              "          0.00294168, -0.05257306, -0.08174732, -0.0796155 , -0.06761407,\n",
              "          0.04805253, -0.14665109, -0.03416461,  0.1015864 , -0.16128221,\n",
              "          0.16549382,  0.02233488,  0.08412974, -0.03562703,  0.04172176,\n",
              "         -0.07341531, -0.04876037,  0.16532348, -0.29855365,  0.17584777,\n",
              "          0.18303953,  0.01816617,  0.14256775,  0.0699961 ,  0.03909592,\n",
              "         -0.0143976 ,  0.04457688, -0.10037328, -0.0286101 ,  0.02106498,\n",
              "         -0.12527928,  0.06812003,  0.06066665])],\n",
              " [array([-2.59999603e-01,  9.22053158e-02,  1.11267231e-01, -6.61061406e-02,\n",
              "         -5.55029809e-02, -3.01959515e-02, -1.91360041e-02, -4.73032258e-02,\n",
              "          1.03251934e-01, -5.18211126e-02,  2.10954905e-01, -4.47569266e-02,\n",
              "         -1.93400651e-01, -1.40747070e-01,  1.57740638e-02,  1.16598278e-01,\n",
              "         -1.62981391e-01, -1.90952063e-01, -6.67328238e-02, -1.07782841e-01,\n",
              "          5.13169169e-03,  2.48977542e-02, -4.90606986e-02,  5.81308156e-02,\n",
              "         -1.99282348e-01, -3.37943077e-01, -7.28465915e-02, -1.31924123e-01,\n",
              "          1.44467093e-02, -5.91431558e-02,  4.48092744e-02, -5.17747998e-02,\n",
              "         -2.14289099e-01, -1.69440843e-02, -3.29949334e-02,  9.76106077e-02,\n",
              "          3.90403606e-02, -1.44379474e-02,  1.68441579e-01, -4.90601510e-02,\n",
              "         -1.07358977e-01, -5.53908795e-02,  8.12868327e-02,  2.37599537e-01,\n",
              "          1.13034196e-01,  4.53264266e-02,  4.47758697e-02, -1.11333784e-02,\n",
              "          8.51603225e-02, -2.24131331e-01,  6.74822852e-02,  1.32098988e-01,\n",
              "          9.73967612e-02,  6.91019669e-02,  6.28687739e-02, -1.06512889e-01,\n",
              "          9.97181982e-03,  8.37797970e-02, -1.49784356e-01,  9.80205908e-02,\n",
              "          1.59440041e-02, -4.54750955e-02, -1.17871776e-01, -4.02951799e-02,\n",
              "          2.81662881e-01,  9.21408385e-02, -1.17077336e-01, -1.53851926e-01,\n",
              "          1.90219700e-01, -1.43866450e-01, -9.53009427e-02,  6.23561963e-02,\n",
              "         -5.92204705e-02, -1.07858852e-01, -3.17931294e-01,  8.47996473e-02,\n",
              "          3.69314492e-01,  1.29543185e-01, -2.47235820e-01,  6.96417540e-02,\n",
              "         -1.31905198e-01,  1.41299851e-02,  4.95226756e-02,  2.80954540e-02,\n",
              "         -1.07523218e-01,  7.28994608e-02, -1.33764535e-01,  3.06786355e-02,\n",
              "          2.08529383e-01,  6.12892769e-02, -1.69402622e-02,  1.85525566e-01,\n",
              "          7.08582997e-02,  6.06106296e-02,  6.94167241e-02,  1.00319088e-02,\n",
              "         -4.01745737e-02, -7.41978586e-02, -7.24197924e-02, -3.41829658e-03,\n",
              "          1.48662820e-01, -5.48467413e-03, -1.73192471e-04,  7.87045658e-02,\n",
              "         -1.50705770e-01,  1.91000804e-01,  2.81835757e-02, -1.06271356e-03,\n",
              "         -3.13256308e-02,  9.20014977e-02, -1.01335973e-01, -3.95360440e-02,\n",
              "          1.50372803e-01, -2.41438136e-01,  1.75791949e-01,  1.40495002e-01,\n",
              "         -1.34807825e-02,  1.50745064e-01,  1.08587965e-01,  7.43224621e-02,\n",
              "         -4.67264280e-02,  1.22692063e-02, -1.13092788e-01, -1.00771934e-01,\n",
              "          5.31369746e-02, -7.61150643e-02,  1.10555463e-01,  1.03159018e-01])]]"
            ]
          },
          "metadata": {},
          "execution_count": 71
        }
      ]
    },
    {
      "cell_type": "code",
      "source": [
        ""
      ],
      "metadata": {
        "id": "Hcc2k6Pcee7_"
      },
      "execution_count": null,
      "outputs": []
    },
    {
      "cell_type": "code",
      "source": [
        "unknown = '/content/drive/MyDrive/Experimet_project/unknown/'\n",
        "#image_file = take_photo()\n",
        "# image = cv2.imread(image_file)\n",
        "# (h, w) = image.shape[:2]\n",
        "# width = 500\n",
        "# ratio = width / float(w)\n",
        "# height = int(h * ratio)\n",
        "# img = cv2.resize(image, (width, height))\n",
        "# print('take photo : ', img)\n",
        "# cv2.imwrite(unknown + \"unknown.jpeg\", img)\n",
        "\n",
        "image = face_recognition.load_image_file(unknown + \"unknown.jpeg\")\n",
        "print(image)\n",
        "\n",
        "face_location = face_recognition.face_locations(image)\n",
        "face_encoding = face_recognition.face_encodings(image)[\n",
        "\n",
        "\n",
        "\n",
        "# unknown_enc = []\n",
        "# img_enc_1 = face_recognition.face_encodings('/content/drive/MyDrive/Experimet_project/unknown/unknown.jpeg')\n",
        "# print(\"img_enc_1 :\" , img_enc_1)\n",
        "# unknown_enc = unknown_enc.append(img_enc_1)\n",
        "print(face_encoding)\n",
        "\n",
        "\n",
        "\n",
        "# def read_img(path):\n",
        "#   image = cv2.imread(path)\n",
        "#   (h, w) = image.shape[:2]\n",
        "#   width = 500\n",
        "#   ratio = width / float(w)\n",
        "#   height = int(h * ratio)\n",
        "#   return cv2.resize(image, (width, height))\n",
        "\n",
        "\n",
        "\n",
        "# img = read_img(Known + '2_subrhamanya.jpeg')\n",
        "# print(img)\n",
        "# face_recognition.face_encodings(img)"
      ],
      "metadata": {
        "colab": {
          "base_uri": "https://localhost:8080/"
        },
        "id": "wa9dPCYsPkCo",
        "outputId": "7540102b-c9f7-4d3e-957a-f11c33a39ef2"
      },
      "execution_count": 66,
      "outputs": [
        {
          "output_type": "stream",
          "name": "stdout",
          "text": [
            "[[[ 98 101  94]\n",
            "  [ 98 100  95]\n",
            "  [ 98 100  95]\n",
            "  ...\n",
            "  [ 65  69  68]\n",
            "  [ 65  69  68]\n",
            "  [ 65  69  68]]\n",
            "\n",
            " [[ 98 101  94]\n",
            "  [ 98 100  95]\n",
            "  [ 99 100  95]\n",
            "  ...\n",
            "  [ 64  68  67]\n",
            "  [ 63  67  66]\n",
            "  [ 63  67  66]]\n",
            "\n",
            " [[ 98 101  94]\n",
            "  [ 98 101  94]\n",
            "  [100 101  95]\n",
            "  ...\n",
            "  [ 63  67  66]\n",
            "  [ 62  66  65]\n",
            "  [ 61  65  64]]\n",
            "\n",
            " ...\n",
            "\n",
            " [[ 35  26  27]\n",
            "  [ 35  26  27]\n",
            "  [ 35  26  29]\n",
            "  ...\n",
            "  [ 22  27  30]\n",
            "  [ 17  22  25]\n",
            "  [ 13  18  21]]\n",
            "\n",
            " [[ 33  24  27]\n",
            "  [ 33  24  27]\n",
            "  [ 34  25  28]\n",
            "  ...\n",
            "  [ 22  27  30]\n",
            "  [ 16  21  24]\n",
            "  [ 11  16  19]]\n",
            "\n",
            " [[ 31  22  25]\n",
            "  [ 31  22  25]\n",
            "  [ 33  24  27]\n",
            "  ...\n",
            "  [ 23  28  31]\n",
            "  [ 17  22  25]\n",
            "  [  9  17  19]]]\n",
            "[]\n"
          ]
        }
      ]
    },
    {
      "cell_type": "code",
      "source": [
        "print(unknown + \"unknown.jpeg\")\n",
        "unknown_encoding = []\n",
        "img_1 = read_img('/content/drive/MyDrive/Experimet_project/unknown/unknown.jpeg')\n",
        "print(img_1)\n",
        "img_enc = face_recognition.face_encodings(img_1)\n",
        "unknown_encoding.append(img_enc)\n",
        "unknown_encoding"
      ],
      "metadata": {
        "colab": {
          "base_uri": "https://localhost:8080/"
        },
        "id": "wdXWf9AW_u7f",
        "outputId": "d42806a7-127f-4336-b7cc-23558a77955e"
      },
      "execution_count": 69,
      "outputs": [
        {
          "output_type": "stream",
          "name": "stdout",
          "text": [
            "/content/drive/MyDrive/Experimet_project/unknown/unknown.jpeg\n",
            "[[[ 95 100  98]\n",
            "  [ 95 100  98]\n",
            "  [ 95 100  99]\n",
            "  ...\n",
            "  [ 68  69  65]\n",
            "  [ 68  69  65]\n",
            "  [ 68  69  65]]\n",
            "\n",
            " [[ 95 100  98]\n",
            "  [ 95 100  98]\n",
            "  [ 95 100  99]\n",
            "  ...\n",
            "  [ 67  68  64]\n",
            "  [ 66  67  63]\n",
            "  [ 66  67  63]]\n",
            "\n",
            " [[ 94 101  98]\n",
            "  [ 94 101  98]\n",
            "  [ 95 101 100]\n",
            "  ...\n",
            "  [ 66  67  63]\n",
            "  [ 65  66  62]\n",
            "  [ 64  65  61]]\n",
            "\n",
            " ...\n",
            "\n",
            " [[ 27  26  35]\n",
            "  [ 27  26  35]\n",
            "  [ 29  26  35]\n",
            "  ...\n",
            "  [ 30  27  22]\n",
            "  [ 25  22  17]\n",
            "  [ 21  18  13]]\n",
            "\n",
            " [[ 25  24  33]\n",
            "  [ 25  24  33]\n",
            "  [ 28  25  34]\n",
            "  ...\n",
            "  [ 30  27  22]\n",
            "  [ 24  21  16]\n",
            "  [ 19  16  11]]\n",
            "\n",
            " [[ 25  22  31]\n",
            "  [ 25  22  31]\n",
            "  [ 27  24  33]\n",
            "  ...\n",
            "  [ 31  28  23]\n",
            "  [ 25  23  15]\n",
            "  [ 19  17   9]]]\n"
          ]
        },
        {
          "output_type": "execute_result",
          "data": {
            "text/plain": [
              "[[]]"
            ]
          },
          "metadata": {},
          "execution_count": 69
        }
      ]
    },
    {
      "cell_type": "code",
      "source": [
        "li = os.listdir(Known)\n",
        "print(li)\n",
        "print(li.remove('.ipynb_checkpoints'))\n",
        "li"
      ],
      "metadata": {
        "colab": {
          "base_uri": "https://localhost:8080/"
        },
        "id": "iUG0p4vDcHAN",
        "outputId": "17854fe6-f4c6-4cbf-ac63-e973bc81a756"
      },
      "execution_count": 19,
      "outputs": [
        {
          "output_type": "stream",
          "name": "stdout",
          "text": [
            "['1_siddha.jpeg', '.ipynb_checkpoints', '2_subha.jpeg', '3_subhaa.jpeg']\n",
            "None\n"
          ]
        },
        {
          "output_type": "execute_result",
          "data": {
            "text/plain": [
              "['1_siddha.jpeg', '2_subha.jpeg', '3_subhaa.jpeg']"
            ]
          },
          "metadata": {},
          "execution_count": 19
        }
      ]
    },
    {
      "cell_type": "code",
      "source": [
        "unknown = '/content/drive/MyDrive/Experimet_project/unknown/'\n",
        "img_enc_1 = take_photo()\n",
        "print(img_enc_1)\n",
        "img = read_img(unknown + img_enc_1)\n",
        "cv2.imwrite( unknown + img_enc_1, img)\n",
        "img_enc_1 = face_recognition.face_encodings(unknown + 'photo.jpg')"
      ],
      "metadata": {
        "colab": {
          "base_uri": "https://localhost:8080/",
          "height": 374
        },
        "id": "89L9gknh357s",
        "outputId": "fcc76d80-a7d0-4f91-f2b8-60b7d54d3c71"
      },
      "execution_count": 43,
      "outputs": [
        {
          "output_type": "display_data",
          "data": {
            "application/javascript": [
              "\n",
              "    async function takePhoto(quality) {\n",
              "      const div = document.createElement('div');\n",
              "      const capture = document.createElement('button');\n",
              "      capture.textContent = 'Capture';\n",
              "      div.appendChild(capture);\n",
              "\n",
              "      const video = document.createElement('video');\n",
              "      video.style.display = 'block';\n",
              "      const stream = await navigator.mediaDevices.getUserMedia({video: true});\n",
              "\n",
              "      document.body.appendChild(div);\n",
              "      div.appendChild(video);\n",
              "      video.srcObject = stream;\n",
              "      await video.play();\n",
              "\n",
              "      // Resize the output to fit the video element.\n",
              "      google.colab.output.setIframeHeight(document.documentElement.scrollHeight, true);\n",
              "\n",
              "      // Wait for Capture to be clicked.\n",
              "      await new Promise((resolve) => capture.onclick = resolve);\n",
              "\n",
              "      const canvas = document.createElement('canvas');\n",
              "      canvas.width = video.videoWidth;\n",
              "      canvas.height = video.videoHeight;\n",
              "      canvas.getContext('2d').drawImage(video, 0, 0);\n",
              "      stream.getVideoTracks()[0].stop();\n",
              "      div.remove();\n",
              "      return canvas.toDataURL('image/jpeg', quality);\n",
              "    }\n",
              "    "
            ],
            "text/plain": [
              "<IPython.core.display.Javascript object>"
            ]
          },
          "metadata": {}
        },
        {
          "output_type": "stream",
          "name": "stdout",
          "text": [
            "photo.jpg\n"
          ]
        },
        {
          "output_type": "error",
          "ename": "AttributeError",
          "evalue": "ignored",
          "traceback": [
            "\u001b[0;31m---------------------------------------------------------------------------\u001b[0m",
            "\u001b[0;31mAttributeError\u001b[0m                            Traceback (most recent call last)",
            "\u001b[0;32m<ipython-input-43-1cfda87c2a42>\u001b[0m in \u001b[0;36m<module>\u001b[0;34m()\u001b[0m\n\u001b[1;32m      2\u001b[0m \u001b[0mimg_enc_1\u001b[0m \u001b[0;34m=\u001b[0m \u001b[0mtake_photo\u001b[0m\u001b[0;34m(\u001b[0m\u001b[0;34m)\u001b[0m\u001b[0;34m\u001b[0m\u001b[0;34m\u001b[0m\u001b[0m\n\u001b[1;32m      3\u001b[0m \u001b[0mprint\u001b[0m\u001b[0;34m(\u001b[0m\u001b[0mimg_enc_1\u001b[0m\u001b[0;34m)\u001b[0m\u001b[0;34m\u001b[0m\u001b[0;34m\u001b[0m\u001b[0m\n\u001b[0;32m----> 4\u001b[0;31m \u001b[0mimg\u001b[0m \u001b[0;34m=\u001b[0m \u001b[0mread_img\u001b[0m\u001b[0;34m(\u001b[0m\u001b[0munknown\u001b[0m \u001b[0;34m+\u001b[0m \u001b[0mimg_enc_1\u001b[0m\u001b[0;34m)\u001b[0m\u001b[0;34m\u001b[0m\u001b[0;34m\u001b[0m\u001b[0m\n\u001b[0m\u001b[1;32m      5\u001b[0m \u001b[0mcv2\u001b[0m\u001b[0;34m.\u001b[0m\u001b[0mimwrite\u001b[0m\u001b[0;34m(\u001b[0m \u001b[0munknown\u001b[0m \u001b[0;34m+\u001b[0m \u001b[0mimg_enc_1\u001b[0m\u001b[0;34m,\u001b[0m \u001b[0mimg\u001b[0m\u001b[0;34m)\u001b[0m\u001b[0;34m\u001b[0m\u001b[0;34m\u001b[0m\u001b[0m\n\u001b[1;32m      6\u001b[0m \u001b[0mimg_enc_1\u001b[0m \u001b[0;34m=\u001b[0m \u001b[0mface_recognition\u001b[0m\u001b[0;34m.\u001b[0m\u001b[0mface_encodings\u001b[0m\u001b[0;34m(\u001b[0m\u001b[0munknown\u001b[0m \u001b[0;34m+\u001b[0m \u001b[0;34m'photo.jpg'\u001b[0m\u001b[0;34m)\u001b[0m\u001b[0;34m\u001b[0m\u001b[0;34m\u001b[0m\u001b[0m\n",
            "\u001b[0;32m<ipython-input-6-06f95ce8bad4>\u001b[0m in \u001b[0;36mread_img\u001b[0;34m(path)\u001b[0m\n\u001b[1;32m      1\u001b[0m \u001b[0;32mdef\u001b[0m \u001b[0mread_img\u001b[0m\u001b[0;34m(\u001b[0m\u001b[0mpath\u001b[0m\u001b[0;34m)\u001b[0m\u001b[0;34m:\u001b[0m\u001b[0;34m\u001b[0m\u001b[0;34m\u001b[0m\u001b[0m\n\u001b[1;32m      2\u001b[0m   \u001b[0mimage\u001b[0m \u001b[0;34m=\u001b[0m \u001b[0mcv2\u001b[0m\u001b[0;34m.\u001b[0m\u001b[0mimread\u001b[0m\u001b[0;34m(\u001b[0m\u001b[0mpath\u001b[0m\u001b[0;34m)\u001b[0m\u001b[0;34m\u001b[0m\u001b[0;34m\u001b[0m\u001b[0m\n\u001b[0;32m----> 3\u001b[0;31m   \u001b[0;34m(\u001b[0m\u001b[0mh\u001b[0m\u001b[0;34m,\u001b[0m \u001b[0mw\u001b[0m\u001b[0;34m)\u001b[0m \u001b[0;34m=\u001b[0m \u001b[0mimage\u001b[0m\u001b[0;34m.\u001b[0m\u001b[0mshape\u001b[0m\u001b[0;34m[\u001b[0m\u001b[0;34m:\u001b[0m\u001b[0;36m2\u001b[0m\u001b[0;34m]\u001b[0m\u001b[0;34m\u001b[0m\u001b[0;34m\u001b[0m\u001b[0m\n\u001b[0m\u001b[1;32m      4\u001b[0m   \u001b[0mwidth\u001b[0m \u001b[0;34m=\u001b[0m \u001b[0;36m500\u001b[0m\u001b[0;34m\u001b[0m\u001b[0;34m\u001b[0m\u001b[0m\n\u001b[1;32m      5\u001b[0m   \u001b[0mratio\u001b[0m \u001b[0;34m=\u001b[0m \u001b[0mwidth\u001b[0m \u001b[0;34m/\u001b[0m \u001b[0mfloat\u001b[0m\u001b[0;34m(\u001b[0m\u001b[0mw\u001b[0m\u001b[0;34m)\u001b[0m\u001b[0;34m\u001b[0m\u001b[0;34m\u001b[0m\u001b[0m\n",
            "\u001b[0;31mAttributeError\u001b[0m: 'NoneType' object has no attribute 'shape'"
          ]
        }
      ]
    },
    {
      "cell_type": "code",
      "source": [
        "#known_image = face_recognition.load_image_file(\"photo.jpg\")\n",
        "import face_recognition\n",
        "unknown_image = face_recognition.load_image_file('/content/photo.jpg')\n",
        "print(unknown_image)\n",
        "\n",
        "# biden_encoding = face_recognition.face_encodings(known_image)[0]\n",
        "unknown_encoding = face_recognition.face_encodings(unknown_image)\n",
        "\n",
        "results = face_recognition.compare_faces(known_encoding, unknown_encoding)"
      ],
      "metadata": {
        "colab": {
          "base_uri": "https://localhost:8080/",
          "height": 1000
        },
        "id": "c7CUJ4igKz16",
        "outputId": "2828fd5b-5a83-4a49-bde5-ad219552fa4d"
      },
      "execution_count": 18,
      "outputs": [
        {
          "output_type": "stream",
          "name": "stdout",
          "text": [
            "[[[104 100  91]\n",
            "  [103  99  90]\n",
            "  [101  97  88]\n",
            "  ...\n",
            "  [103 105 104]\n",
            "  [103 105 104]\n",
            "  [103 105 104]]\n",
            "\n",
            " [[102  98  89]\n",
            "  [102  98  89]\n",
            "  [101  97  88]\n",
            "  ...\n",
            "  [103 105 104]\n",
            "  [104 106 105]\n",
            "  [105 107 106]]\n",
            "\n",
            " [[101  97  88]\n",
            "  [101  97  88]\n",
            "  [101  98  89]\n",
            "  ...\n",
            "  [103 105 104]\n",
            "  [105 107 106]\n",
            "  [106 108 107]]\n",
            "\n",
            " ...\n",
            "\n",
            " [[137  99 114]\n",
            "  [136  98 113]\n",
            "  [135  97 112]\n",
            "  ...\n",
            "  [ 50  52  75]\n",
            "  [ 50  50  76]\n",
            "  [ 50  50  76]]\n",
            "\n",
            " [[134  96 111]\n",
            "  [135  97 112]\n",
            "  [135  97 112]\n",
            "  ...\n",
            "  [ 51  51  75]\n",
            "  [ 50  50  76]\n",
            "  [ 50  50  76]]\n",
            "\n",
            " [[133  95 110]\n",
            "  [134  96 111]\n",
            "  [134  96 111]\n",
            "  ...\n",
            "  [ 50  50  74]\n",
            "  [ 50  50  76]\n",
            "  [ 50  50  76]]]\n"
          ]
        },
        {
          "output_type": "error",
          "ename": "TypeError",
          "evalue": "ignored",
          "traceback": [
            "\u001b[0;31m---------------------------------------------------------------------------\u001b[0m",
            "\u001b[0;31mTypeError\u001b[0m                                 Traceback (most recent call last)",
            "\u001b[0;32m<ipython-input-18-e88829a39e01>\u001b[0m in \u001b[0;36m<module>\u001b[0;34m()\u001b[0m\n\u001b[1;32m      7\u001b[0m \u001b[0munknown_encoding\u001b[0m \u001b[0;34m=\u001b[0m \u001b[0mface_recognition\u001b[0m\u001b[0;34m.\u001b[0m\u001b[0mface_encodings\u001b[0m\u001b[0;34m(\u001b[0m\u001b[0munknown_image\u001b[0m\u001b[0;34m)\u001b[0m\u001b[0;34m\u001b[0m\u001b[0;34m\u001b[0m\u001b[0m\n\u001b[1;32m      8\u001b[0m \u001b[0;34m\u001b[0m\u001b[0m\n\u001b[0;32m----> 9\u001b[0;31m \u001b[0mresults\u001b[0m \u001b[0;34m=\u001b[0m \u001b[0mface_recognition\u001b[0m\u001b[0;34m.\u001b[0m\u001b[0mcompare_faces\u001b[0m\u001b[0;34m(\u001b[0m\u001b[0mknown_encoding\u001b[0m\u001b[0;34m,\u001b[0m \u001b[0munknown_encoding\u001b[0m\u001b[0;34m)\u001b[0m\u001b[0;34m\u001b[0m\u001b[0;34m\u001b[0m\u001b[0m\n\u001b[0m",
            "\u001b[0;32m/usr/local/lib/python3.7/dist-packages/face_recognition/api.py\u001b[0m in \u001b[0;36mcompare_faces\u001b[0;34m(known_face_encodings, face_encoding_to_check, tolerance)\u001b[0m\n\u001b[1;32m    224\u001b[0m     \u001b[0;34m:\u001b[0m\u001b[0;32mreturn\u001b[0m\u001b[0;34m:\u001b[0m \u001b[0mA\u001b[0m \u001b[0mlist\u001b[0m \u001b[0mof\u001b[0m \u001b[0;32mTrue\u001b[0m\u001b[0;34m/\u001b[0m\u001b[0;32mFalse\u001b[0m \u001b[0mvalues\u001b[0m \u001b[0mindicating\u001b[0m \u001b[0mwhich\u001b[0m \u001b[0mknown_face_encodings\u001b[0m \u001b[0mmatch\u001b[0m \u001b[0mthe\u001b[0m \u001b[0mface\u001b[0m \u001b[0mencoding\u001b[0m \u001b[0mto\u001b[0m \u001b[0mcheck\u001b[0m\u001b[0;34m\u001b[0m\u001b[0;34m\u001b[0m\u001b[0m\n\u001b[1;32m    225\u001b[0m     \"\"\"\n\u001b[0;32m--> 226\u001b[0;31m     \u001b[0;32mreturn\u001b[0m \u001b[0mlist\u001b[0m\u001b[0;34m(\u001b[0m\u001b[0mface_distance\u001b[0m\u001b[0;34m(\u001b[0m\u001b[0mknown_face_encodings\u001b[0m\u001b[0;34m,\u001b[0m \u001b[0mface_encoding_to_check\u001b[0m\u001b[0;34m)\u001b[0m \u001b[0;34m<=\u001b[0m \u001b[0mtolerance\u001b[0m\u001b[0;34m)\u001b[0m\u001b[0;34m\u001b[0m\u001b[0;34m\u001b[0m\u001b[0m\n\u001b[0m",
            "\u001b[0;32m/usr/local/lib/python3.7/dist-packages/face_recognition/api.py\u001b[0m in \u001b[0;36mface_distance\u001b[0;34m(face_encodings, face_to_compare)\u001b[0m\n\u001b[1;32m     73\u001b[0m         \u001b[0;32mreturn\u001b[0m \u001b[0mnp\u001b[0m\u001b[0;34m.\u001b[0m\u001b[0mempty\u001b[0m\u001b[0;34m(\u001b[0m\u001b[0;34m(\u001b[0m\u001b[0;36m0\u001b[0m\u001b[0;34m)\u001b[0m\u001b[0;34m)\u001b[0m\u001b[0;34m\u001b[0m\u001b[0;34m\u001b[0m\u001b[0m\n\u001b[1;32m     74\u001b[0m \u001b[0;34m\u001b[0m\u001b[0m\n\u001b[0;32m---> 75\u001b[0;31m     \u001b[0;32mreturn\u001b[0m \u001b[0mnp\u001b[0m\u001b[0;34m.\u001b[0m\u001b[0mlinalg\u001b[0m\u001b[0;34m.\u001b[0m\u001b[0mnorm\u001b[0m\u001b[0;34m(\u001b[0m\u001b[0mface_encodings\u001b[0m \u001b[0;34m-\u001b[0m \u001b[0mface_to_compare\u001b[0m\u001b[0;34m,\u001b[0m \u001b[0maxis\u001b[0m\u001b[0;34m=\u001b[0m\u001b[0;36m1\u001b[0m\u001b[0;34m)\u001b[0m\u001b[0;34m\u001b[0m\u001b[0;34m\u001b[0m\u001b[0m\n\u001b[0m\u001b[1;32m     76\u001b[0m \u001b[0;34m\u001b[0m\u001b[0m\n\u001b[1;32m     77\u001b[0m \u001b[0;34m\u001b[0m\u001b[0m\n",
            "\u001b[0;31mTypeError\u001b[0m: unsupported operand type(s) for -: 'list' and 'list'"
          ]
        }
      ]
    },
    {
      "cell_type": "code",
      "source": [
        "known_encoding"
      ],
      "metadata": {
        "colab": {
          "base_uri": "https://localhost:8080/"
        },
        "id": "i_rgjmaonuNB",
        "outputId": "502759a7-2e82-4020-dd40-8ffb0b8fb8bb"
      },
      "execution_count": 13,
      "outputs": [
        {
          "output_type": "execute_result",
          "data": {
            "text/plain": [
              "[[array([-0.24456827,  0.1294789 ,  0.07309672, -0.04524456, -0.08225588,\n",
              "         -0.03698364, -0.02491405, -0.09943628,  0.09174585, -0.06514995,\n",
              "          0.23418972, -0.03725216, -0.16492276, -0.15983111,  0.04481793,\n",
              "          0.06561334, -0.15558329, -0.17340773, -0.04324625, -0.12023474,\n",
              "          0.03932881,  0.03081733, -0.03593307,  0.04901974, -0.21249744,\n",
              "         -0.30785218, -0.04867273, -0.13569155,  0.01752314, -0.14170173,\n",
              "          0.01509363,  0.0303898 , -0.1859974 , -0.02059738, -0.01396531,\n",
              "          0.17363656,  0.03289816,  0.08159301,  0.10234283, -0.02751131,\n",
              "         -0.13838674, -0.06128749,  0.09154001,  0.30635279,  0.24671701,\n",
              "          0.03730904, -0.05043131,  0.04315095,  0.11173731, -0.18877637,\n",
              "          0.06112105,  0.07143011,  0.14949399,  0.06276699,  0.06645711,\n",
              "         -0.1592637 , -0.04520224,  0.07192539, -0.15023075,  0.09859286,\n",
              "          0.01209665, -0.1678414 , -0.11072274, -0.01841669,  0.29046243,\n",
              "          0.07955594, -0.14588097, -0.13627177,  0.1489428 , -0.1767509 ,\n",
              "         -0.08498211,  0.12037162, -0.09077671, -0.08386007, -0.32127059,\n",
              "          0.07037566,  0.37174311,  0.05102108, -0.2304385 ,  0.00933183,\n",
              "         -0.04824004,  0.00441103,  0.02972305,  0.0887308 , -0.09309608,\n",
              "          0.06198396, -0.12263945,  0.00267041,  0.1794875 ,  0.05162938,\n",
              "         -0.04121425,  0.20932034, -0.02415985,  0.08172537,  0.08007369,\n",
              "          0.00294168, -0.05257306, -0.08174732, -0.0796155 , -0.06761407,\n",
              "          0.04805253, -0.14665109, -0.03416461,  0.1015864 , -0.16128221,\n",
              "          0.16549382,  0.02233488,  0.08412974, -0.03562703,  0.04172176,\n",
              "         -0.07341531, -0.04876037,  0.16532348, -0.29855365,  0.17584777,\n",
              "          0.18303953,  0.01816617,  0.14256775,  0.0699961 ,  0.03909592,\n",
              "         -0.0143976 ,  0.04457688, -0.10037328, -0.0286101 ,  0.02106498,\n",
              "         -0.12527928,  0.06812003,  0.06066665])],\n",
              " [array([-2.59999603e-01,  9.22053158e-02,  1.11267231e-01, -6.61061406e-02,\n",
              "         -5.55029809e-02, -3.01959515e-02, -1.91360041e-02, -4.73032258e-02,\n",
              "          1.03251934e-01, -5.18211126e-02,  2.10954905e-01, -4.47569266e-02,\n",
              "         -1.93400651e-01, -1.40747070e-01,  1.57740638e-02,  1.16598278e-01,\n",
              "         -1.62981391e-01, -1.90952063e-01, -6.67328238e-02, -1.07782841e-01,\n",
              "          5.13169169e-03,  2.48977542e-02, -4.90606986e-02,  5.81308156e-02,\n",
              "         -1.99282348e-01, -3.37943077e-01, -7.28465915e-02, -1.31924123e-01,\n",
              "          1.44467093e-02, -5.91431558e-02,  4.48092744e-02, -5.17747998e-02,\n",
              "         -2.14289099e-01, -1.69440843e-02, -3.29949334e-02,  9.76106077e-02,\n",
              "          3.90403606e-02, -1.44379474e-02,  1.68441579e-01, -4.90601510e-02,\n",
              "         -1.07358977e-01, -5.53908795e-02,  8.12868327e-02,  2.37599537e-01,\n",
              "          1.13034196e-01,  4.53264266e-02,  4.47758697e-02, -1.11333784e-02,\n",
              "          8.51603225e-02, -2.24131331e-01,  6.74822852e-02,  1.32098988e-01,\n",
              "          9.73967612e-02,  6.91019669e-02,  6.28687739e-02, -1.06512889e-01,\n",
              "          9.97181982e-03,  8.37797970e-02, -1.49784356e-01,  9.80205908e-02,\n",
              "          1.59440041e-02, -4.54750955e-02, -1.17871776e-01, -4.02951799e-02,\n",
              "          2.81662881e-01,  9.21408385e-02, -1.17077336e-01, -1.53851926e-01,\n",
              "          1.90219700e-01, -1.43866450e-01, -9.53009427e-02,  6.23561963e-02,\n",
              "         -5.92204705e-02, -1.07858852e-01, -3.17931294e-01,  8.47996473e-02,\n",
              "          3.69314492e-01,  1.29543185e-01, -2.47235820e-01,  6.96417540e-02,\n",
              "         -1.31905198e-01,  1.41299851e-02,  4.95226756e-02,  2.80954540e-02,\n",
              "         -1.07523218e-01,  7.28994608e-02, -1.33764535e-01,  3.06786355e-02,\n",
              "          2.08529383e-01,  6.12892769e-02, -1.69402622e-02,  1.85525566e-01,\n",
              "          7.08582997e-02,  6.06106296e-02,  6.94167241e-02,  1.00319088e-02,\n",
              "         -4.01745737e-02, -7.41978586e-02, -7.24197924e-02, -3.41829658e-03,\n",
              "          1.48662820e-01, -5.48467413e-03, -1.73192471e-04,  7.87045658e-02,\n",
              "         -1.50705770e-01,  1.91000804e-01,  2.81835757e-02, -1.06271356e-03,\n",
              "         -3.13256308e-02,  9.20014977e-02, -1.01335973e-01, -3.95360440e-02,\n",
              "          1.50372803e-01, -2.41438136e-01,  1.75791949e-01,  1.40495002e-01,\n",
              "         -1.34807825e-02,  1.50745064e-01,  1.08587965e-01,  7.43224621e-02,\n",
              "         -4.67264280e-02,  1.22692063e-02, -1.13092788e-01, -1.00771934e-01,\n",
              "          5.31369746e-02, -7.61150643e-02,  1.10555463e-01,  1.03159018e-01])]]"
            ]
          },
          "metadata": {},
          "execution_count": 13
        }
      ]
    },
    {
      "cell_type": "code",
      "source": [
        ""
      ],
      "metadata": {
        "id": "dyOw5RtFnvg1"
      },
      "execution_count": null,
      "outputs": []
    }
  ]
}